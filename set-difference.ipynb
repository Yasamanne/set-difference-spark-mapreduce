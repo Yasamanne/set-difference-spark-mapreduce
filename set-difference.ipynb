{
 "cells": [
  {
   "cell_type": "markdown",
   "id": "8e6ad4f2-c5e3-4711-8cea-dce3004e95cf",
   "metadata": {},
   "source": [
    "## Creating two sets of random integers between 0 and 10,0000"
   ]
  },
  {
   "cell_type": "code",
   "execution_count": null,
   "id": "f115830d-0b15-45d6-890d-2eaf3d5ba0c4",
   "metadata": {},
   "outputs": [],
   "source": [
    "__author__ = \"Yasaman Emami\"\n",
    "__email__ = ['emami.yasamann@gmail.com','yasaman.emami@sjsu.edu']\n",
    "__sid__ = \"015325557\""
   ]
  },
  {
   "cell_type": "raw",
   "id": "fff7bde3-e8c4-4893-b38f-224cf2918135",
   "metadata": {
    "tags": []
   },
   "source": [
    "\"\"\" Please uncomment each commented print in cells to see and check the results of that set \"\"\""
   ]
  },
  {
   "cell_type": "code",
   "execution_count": null,
   "id": "5dc6cf56-a83f-4400-b64c-9e609b40a07d",
   "metadata": {
    "tags": []
   },
   "outputs": [],
   "source": [
    "import random\n",
    "\n",
    "#creating 2 lists of random numbers between start and stop(0,10000) \n",
    "start = 0\n",
    "stop = 100000\n",
    "first_limit = 250\n",
    "second_limit = 350\n",
    "\n",
    "#fisrt random list\n",
    "first_random_list_int = [random.randint(start, stop) for iter in range(first_limit)]\n",
    "\n",
    "#second random list and it includes every other fifth element of the random_list_int list so they are not mutually exclusive\n",
    "second_random_list_int = first_random_list_int[::5] + [random.randint(start, stop) for iter in range(second_limit)]\n",
    "\n",
    "#print(first_random_list_int)\n",
    "#print(second_random_list_int)"
   ]
  },
  {
   "cell_type": "markdown",
   "id": "a47b1a45-2104-4d2d-8dc3-c2d2e8af2cd6",
   "metadata": {},
   "source": [
    "## Writing generated sets into files"
   ]
  },
  {
   "cell_type": "code",
   "execution_count": null,
   "id": "c49d6bcf-3093-4b96-9c32-a63a41e50f0d",
   "metadata": {
    "tags": []
   },
   "outputs": [],
   "source": [
    "#create text files for R and S sets\n",
    "sets = {\"S.txt\":first_random_list_int, \"R.txt\":second_random_list_int}\n",
    "\n",
    "for item in sets.items():\n",
    "    textfile = open(item[0], \"w\")\n",
    "    #print(item[0])\n",
    "    for element in item[1]:\n",
    "        #print(element)\n",
    "        textfile.write(str(element) + \"\\n\")\n",
    "    textfile.close()   "
   ]
  },
  {
   "cell_type": "markdown",
   "id": "7f1f1c84-ad7b-4a0a-8999-371e575605f9",
   "metadata": {},
   "source": [
    "## Reading text files using pyspark and mapreduce to find set diffrence"
   ]
  },
  {
   "cell_type": "code",
   "execution_count": null,
   "id": "5ce1078b-e568-498d-9914-b9040f0396f3",
   "metadata": {
    "tags": []
   },
   "outputs": [],
   "source": [
    "from pyspark import SparkContext\n",
    "\n",
    "#create Spark context with necessary configuration\n",
    "sc = SparkContext.getOrCreate()\n",
    "\n",
    "sets_with_associations=[]\n",
    "\n",
    "for item in sets.items():\n",
    "    \n",
    "    #read data from text file and split each line into one element\n",
    "    rddfile_1 = sc.textFile(item[0]).flatMap(lambda line: line.split(\" \"))\n",
    "    \n",
    "    #associate each element in each file with the set name and store it in rdd format \n",
    "    sets_with_associations.append(rddfile_1.map(lambda x:(int(x),item[0].split(\".\")[0])).distinct().sortByKey())\n",
    "\n",
    "#print(sets_with_associations[0].collect())\n",
    "#print(sets_with_associations[1].collect())"
   ]
  },
  {
   "cell_type": "code",
   "execution_count": null,
   "id": "415abdc4-5f88-4429-9227-e4d2ca18a066",
   "metadata": {
    "tags": []
   },
   "outputs": [],
   "source": [
    "#concat two rdds value to make one rdd\n",
    "concat_sets_with_association = sets_with_associations[0] + sets_with_associations[1]\n",
    "#sortby key values in rdd\n",
    "sorted_concat_sets_with_association = concat_sets_with_association.sortByKey()\n",
    "#print(sorted_concat_sets_with_association.collect())\n"
   ]
  },
  {
   "cell_type": "code",
   "execution_count": null,
   "id": "d0874ff6-6e0a-47a3-856c-798158cf99e6",
   "metadata": {},
   "outputs": [],
   "source": [
    "#for same key, values in final rdd concat set names\n",
    "res = sorted_concat_sets_with_association.reduceByKey(lambda x,y: x+y ).sortByKey()\n",
    "#print(res.collect())"
   ]
  },
  {
   "cell_type": "code",
   "execution_count": null,
   "id": "6409eef8-99cf-4b6c-bd95-fb793690aea4",
   "metadata": {
    "tags": []
   },
   "outputs": [],
   "source": [
    "#filters out the values that are only in R and map the values with themselves as requested by assignment\n",
    "set_difference = res.filter(lambda x: x[1] == 'R' ).map(lambda x: (x[0],x[0])).collect()\n",
    "print(set_difference)\n"
   ]
  },
  {
   "cell_type": "markdown",
   "id": "53cda5da-42fc-412e-9efd-c7c7a32cc04e",
   "metadata": {},
   "source": [
    "## Test program"
   ]
  },
  {
   "cell_type": "code",
   "execution_count": null,
   "id": "fb60fc69-0184-4ccc-9847-364fd452066f",
   "metadata": {},
   "outputs": [],
   "source": [
    "Start = 0\n",
    "len_set_difference = len(set_difference)\n",
    "limit = int(len_set_difference/10)\n",
    "\n",
    "#creating random index list from the results as big as 10 percent of the result list\n",
    "random_index_check = [random.randint(Start, len_set_difference) for iter in range(limit)]\n",
    "\n",
    "#check if the value of randomly picked indexes from set_difference is in R or S set \n",
    "for element in random_index_check:\n",
    "    if set_difference[element][0] in first_random_list_int:\n",
    "        print(\"'\" + str(element) + \"'\" +\" is in S\")\n",
    "    if set_difference[element][0] in second_random_list_int:\n",
    "        print(\"'\" + str(element) + \"'\" + \" is in R\")"
   ]
  }
 ],
 "metadata": {
  "kernelspec": {
   "display_name": "Python 3 (ipykernel)",
   "language": "python",
   "name": "python3"
  },
  "language_info": {
   "codemirror_mode": {
    "name": "ipython",
    "version": 3
   },
   "file_extension": ".py",
   "mimetype": "text/x-python",
   "name": "python",
   "nbconvert_exporter": "python",
   "pygments_lexer": "ipython3",
   "version": "3.9.6"
  }
 },
 "nbformat": 4,
 "nbformat_minor": 5
}
